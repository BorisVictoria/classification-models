{
 "cells": [
  {
   "cell_type": "markdown",
   "metadata": {
    "id": "j0why2vSV3NJ"
   },
   "source": [
    "# Comparison of Machine Learning Models for Classification"
   ]
  },
  {
   "cell_type": "markdown",
   "metadata": {
    "id": "Ez6IpW9chM6W"
   },
   "source": [
    "**Brief Description**\n",
    "\n",
    "The modern world is an intricate web of data whose patterns are sometimes too complex for human brains to uncover. Machine learning is a field of artificial intelligence (AI) who's focus it is to discover these patterns and use them to predict outcomes and make better informed decisions. Contrary to traditional forms of AI that operate on explicitly defined steps and/or rules, machine learning algorithms \"learn\" patterns on its own based on existing data.\n",
    "\n",
    "A well-suited task for machine learning is categorizing input data, usually a set of characteristics or *features*, into predefined classes or *labels*. The goal is to train a mathematical algorithm, known as a model, on existing labeled data so that it can classify new and unseen data effectively. The following are examples of classification machine learning models:\n",
    "\n",
    "\n",
    "1.   K-Nearest Neighbor (KNN)\n",
    "2.   Logistic Regression\n",
    "3.   Deep Learning\n",
    "\n",
    "\n",
    "\n",
    "The goal of this project is to analyze the behavior and performance of each of these three models and choose the best one for the chosen dataset."
   ]
  },
  {
   "cell_type": "markdown",
   "metadata": {
    "id": "VG3BrmOKE18o"
   },
   "source": [
    "# About the Dataset"
   ]
  },
  {
   "cell_type": "markdown",
   "metadata": {
    "id": "a_6SZw9lS0Zu"
   },
   "source": [
    "In the pursuit of exploring various machine learning models, the team selected the [Diabetes health indicators dataset](https://www.kaggle.com/datasets/alexteboul/diabetes-health-indicators-dataset/data?select=diabetes_012_health_indicators_BRFSS2015.csv). This dataset, sourced from the Behavioral Risk Factor Surveillance System (BRFSS), aggregates responses from a substantial cohort of over 400,000 Americans. The rationales behind choosing this dataset include the following:\n",
    "1. Distinct Classifications\n",
    "\n",
    "\n",
    "> There is a clear criteria for diagnosing diabetes that forms distinct classes. Furthermore, The dataset underwent cleaning by Alex Teboul, alleviating the need for extensive post-collection refinement.\n",
    "\n",
    "2. Models a complex real-world problem\n",
    "\n",
    "> Diabetes can be caused by various risk factors from one's environment and genetics (Mayo Clinic Staff, 2023). Machine learning can handle these complex relationships and predict likelihood of diabetes based on multiple variables simultaneously.\n",
    "\n",
    "3. Public health importance\n",
    "\n",
    "> Early detection of diabetes can prevent serious complications from developing in patients (MyVirtualPhysician, 2020). Thus, an accurate model that can determine high-risk individuals can significantly improve public health."
   ]
  },
  {
   "cell_type": "markdown",
   "metadata": {
    "id": "ZQuu1wYestrO"
   },
   "source": [
    "Within this dataset, three CSV files are present. The initial file comprises 254,000 rows, and the target variable exhibits three classes: 0 denotes the absence of diabetes or diabetes solely during pregnancy, 1 indicates prediabetes, and 2 signifies diabetes. The subsequent file encompasses 70,692 samples, with a balanced 50-50 distribution between respondents with no diabetes (coded as 0) and those with either prediabetes or diabetes (coded as 1). The final dataset resembles the second one in terms of the target variable having two classes (0 for no diabetes and 1 for prediabetes or diabetes), but it features an uneven distribution and contains a higher number of samples without diabetes.\n",
    "\n",
    "Choosing the appropriate CSV may be crucial to the performance of the model. A core concept of machine learning is that the model is only as good as the data provided to it. In this case, an imbalanced distribution of training data in terms of classes can lead to biases in the predictions. This happens because the training model spends most of its time on the majority class, leading to poor predictive performance on the minority class. This is particularly problematic in medical situations, where predictions could significantly affect patient outcomes. Thus, the second file (with a balanced 50-50 distribution) was selected for the data.\n",
    "\n"
   ]
  },
  {
   "cell_type": "markdown",
   "metadata": {
    "id": "uiwCyg61Xind"
   },
   "source": [
    "# Importing and Cleaning\n",
    "\n"
   ]
  },
  {
   "cell_type": "markdown",
   "metadata": {
    "id": "nbKYNzCkTio5"
   },
   "source": [
    "The section loads the data into a pandas DataFrame. This allows us to inspect and examine the dataset as seen in the code below."
   ]
  },
  {
   "cell_type": "code",
   "execution_count": null,
   "metadata": {
    "colab": {
     "base_uri": "https://localhost:8080/"
    },
    "id": "aS6XqoQEO8cK",
    "outputId": "c67f87a3-4d80-4f96-f79e-e351ffc6e6ff"
   },
   "outputs": [
    {
     "output_type": "stream",
     "name": "stdout",
     "text": [
      "<class 'pandas.core.frame.DataFrame'>\n",
      "RangeIndex: 70692 entries, 0 to 70691\n",
      "Data columns (total 22 columns):\n",
      " #   Column                Non-Null Count  Dtype  \n",
      "---  ------                --------------  -----  \n",
      " 0   Diabetes_binary       70692 non-null  float64\n",
      " 1   HighBP                70692 non-null  float64\n",
      " 2   HighChol              70692 non-null  float64\n",
      " 3   CholCheck             70692 non-null  float64\n",
      " 4   BMI                   70692 non-null  float64\n",
      " 5   Smoker                70692 non-null  float64\n",
      " 6   Stroke                70692 non-null  float64\n",
      " 7   HeartDiseaseorAttack  70692 non-null  float64\n",
      " 8   PhysActivity          70692 non-null  float64\n",
      " 9   Fruits                70692 non-null  float64\n",
      " 10  Veggies               70692 non-null  float64\n",
      " 11  HvyAlcoholConsump     70692 non-null  float64\n",
      " 12  AnyHealthcare         70692 non-null  float64\n",
      " 13  NoDocbcCost           70692 non-null  float64\n",
      " 14  GenHlth               70692 non-null  float64\n",
      " 15  MentHlth              70692 non-null  float64\n",
      " 16  PhysHlth              70692 non-null  float64\n",
      " 17  DiffWalk              70692 non-null  float64\n",
      " 18  Sex                   70692 non-null  float64\n",
      " 19  Age                   70692 non-null  float64\n",
      " 20  Education             70692 non-null  float64\n",
      " 21  Income                70692 non-null  float64\n",
      "dtypes: float64(22)\n",
      "memory usage: 11.9 MB\n"
     ]
    }
   ],
   "source": [
    "import pandas as pd\n",
    "\n",
    "file_path = 'data\\diabetes_binary_5050split_health_indicators_BRFSS2015.csv'\n",
    "\n",
    "df = pd.read_csv(file_path)\n",
    "df.info()"
   ]
  },
  {
   "cell_type": "markdown",
   "metadata": {
    "id": "ww9U7cidWCzG"
   },
   "source": [
    "We can also check the first 5 rows of the dataset using the df.head() function."
   ]
  },
  {
   "cell_type": "code",
   "execution_count": null,
   "metadata": {
    "colab": {
     "base_uri": "https://localhost:8080/",
     "height": 255
    },
    "id": "Mn4oVBwnT06f",
    "outputId": "846dd38f-0dd3-4bf5-92eb-b36ee1cd6c6d"
   },
   "outputs": [
    {
     "output_type": "execute_result",
     "data": {
      "text/plain": [
       "   Diabetes_binary  HighBP  HighChol  CholCheck   BMI  Smoker  Stroke  \\\n",
       "0              0.0     1.0       0.0        1.0  26.0     0.0     0.0   \n",
       "1              0.0     1.0       1.0        1.0  26.0     1.0     1.0   \n",
       "2              0.0     0.0       0.0        1.0  26.0     0.0     0.0   \n",
       "3              0.0     1.0       1.0        1.0  28.0     1.0     0.0   \n",
       "4              0.0     0.0       0.0        1.0  29.0     1.0     0.0   \n",
       "\n",
       "   HeartDiseaseorAttack  PhysActivity  Fruits  ...  AnyHealthcare  \\\n",
       "0                   0.0           1.0     0.0  ...            1.0   \n",
       "1                   0.0           0.0     1.0  ...            1.0   \n",
       "2                   0.0           1.0     1.0  ...            1.0   \n",
       "3                   0.0           1.0     1.0  ...            1.0   \n",
       "4                   0.0           1.0     1.0  ...            1.0   \n",
       "\n",
       "   NoDocbcCost  GenHlth  MentHlth  PhysHlth  DiffWalk  Sex   Age  Education  \\\n",
       "0          0.0      3.0       5.0      30.0       0.0  1.0   4.0        6.0   \n",
       "1          0.0      3.0       0.0       0.0       0.0  1.0  12.0        6.0   \n",
       "2          0.0      1.0       0.0      10.0       0.0  1.0  13.0        6.0   \n",
       "3          0.0      3.0       0.0       3.0       0.0  1.0  11.0        6.0   \n",
       "4          0.0      2.0       0.0       0.0       0.0  0.0   8.0        5.0   \n",
       "\n",
       "   Income  \n",
       "0     8.0  \n",
       "1     8.0  \n",
       "2     8.0  \n",
       "3     8.0  \n",
       "4     8.0  \n",
       "\n",
       "[5 rows x 22 columns]"
      ],
      "text/html": [
       "\n",
       "  <div id=\"df-f269d800-1a9a-4811-8fb1-5a5861e476b8\" class=\"colab-df-container\">\n",
       "    <div>\n",
       "<style scoped>\n",
       "    .dataframe tbody tr th:only-of-type {\n",
       "        vertical-align: middle;\n",
       "    }\n",
       "\n",
       "    .dataframe tbody tr th {\n",
       "        vertical-align: top;\n",
       "    }\n",
       "\n",
       "    .dataframe thead th {\n",
       "        text-align: right;\n",
       "    }\n",
       "</style>\n",
       "<table border=\"1\" class=\"dataframe\">\n",
       "  <thead>\n",
       "    <tr style=\"text-align: right;\">\n",
       "      <th></th>\n",
       "      <th>Diabetes_binary</th>\n",
       "      <th>HighBP</th>\n",
       "      <th>HighChol</th>\n",
       "      <th>CholCheck</th>\n",
       "      <th>BMI</th>\n",
       "      <th>Smoker</th>\n",
       "      <th>Stroke</th>\n",
       "      <th>HeartDiseaseorAttack</th>\n",
       "      <th>PhysActivity</th>\n",
       "      <th>Fruits</th>\n",
       "      <th>...</th>\n",
       "      <th>AnyHealthcare</th>\n",
       "      <th>NoDocbcCost</th>\n",
       "      <th>GenHlth</th>\n",
       "      <th>MentHlth</th>\n",
       "      <th>PhysHlth</th>\n",
       "      <th>DiffWalk</th>\n",
       "      <th>Sex</th>\n",
       "      <th>Age</th>\n",
       "      <th>Education</th>\n",
       "      <th>Income</th>\n",
       "    </tr>\n",
       "  </thead>\n",
       "  <tbody>\n",
       "    <tr>\n",
       "      <th>0</th>\n",
       "      <td>0.0</td>\n",
       "      <td>1.0</td>\n",
       "      <td>0.0</td>\n",
       "      <td>1.0</td>\n",
       "      <td>26.0</td>\n",
       "      <td>0.0</td>\n",
       "      <td>0.0</td>\n",
       "      <td>0.0</td>\n",
       "      <td>1.0</td>\n",
       "      <td>0.0</td>\n",
       "      <td>...</td>\n",
       "      <td>1.0</td>\n",
       "      <td>0.0</td>\n",
       "      <td>3.0</td>\n",
       "      <td>5.0</td>\n",
       "      <td>30.0</td>\n",
       "      <td>0.0</td>\n",
       "      <td>1.0</td>\n",
       "      <td>4.0</td>\n",
       "      <td>6.0</td>\n",
       "      <td>8.0</td>\n",
       "    </tr>\n",
       "    <tr>\n",
       "      <th>1</th>\n",
       "      <td>0.0</td>\n",
       "      <td>1.0</td>\n",
       "      <td>1.0</td>\n",
       "      <td>1.0</td>\n",
       "      <td>26.0</td>\n",
       "      <td>1.0</td>\n",
       "      <td>1.0</td>\n",
       "      <td>0.0</td>\n",
       "      <td>0.0</td>\n",
       "      <td>1.0</td>\n",
       "      <td>...</td>\n",
       "      <td>1.0</td>\n",
       "      <td>0.0</td>\n",
       "      <td>3.0</td>\n",
       "      <td>0.0</td>\n",
       "      <td>0.0</td>\n",
       "      <td>0.0</td>\n",
       "      <td>1.0</td>\n",
       "      <td>12.0</td>\n",
       "      <td>6.0</td>\n",
       "      <td>8.0</td>\n",
       "    </tr>\n",
       "    <tr>\n",
       "      <th>2</th>\n",
       "      <td>0.0</td>\n",
       "      <td>0.0</td>\n",
       "      <td>0.0</td>\n",
       "      <td>1.0</td>\n",
       "      <td>26.0</td>\n",
       "      <td>0.0</td>\n",
       "      <td>0.0</td>\n",
       "      <td>0.0</td>\n",
       "      <td>1.0</td>\n",
       "      <td>1.0</td>\n",
       "      <td>...</td>\n",
       "      <td>1.0</td>\n",
       "      <td>0.0</td>\n",
       "      <td>1.0</td>\n",
       "      <td>0.0</td>\n",
       "      <td>10.0</td>\n",
       "      <td>0.0</td>\n",
       "      <td>1.0</td>\n",
       "      <td>13.0</td>\n",
       "      <td>6.0</td>\n",
       "      <td>8.0</td>\n",
       "    </tr>\n",
       "    <tr>\n",
       "      <th>3</th>\n",
       "      <td>0.0</td>\n",
       "      <td>1.0</td>\n",
       "      <td>1.0</td>\n",
       "      <td>1.0</td>\n",
       "      <td>28.0</td>\n",
       "      <td>1.0</td>\n",
       "      <td>0.0</td>\n",
       "      <td>0.0</td>\n",
       "      <td>1.0</td>\n",
       "      <td>1.0</td>\n",
       "      <td>...</td>\n",
       "      <td>1.0</td>\n",
       "      <td>0.0</td>\n",
       "      <td>3.0</td>\n",
       "      <td>0.0</td>\n",
       "      <td>3.0</td>\n",
       "      <td>0.0</td>\n",
       "      <td>1.0</td>\n",
       "      <td>11.0</td>\n",
       "      <td>6.0</td>\n",
       "      <td>8.0</td>\n",
       "    </tr>\n",
       "    <tr>\n",
       "      <th>4</th>\n",
       "      <td>0.0</td>\n",
       "      <td>0.0</td>\n",
       "      <td>0.0</td>\n",
       "      <td>1.0</td>\n",
       "      <td>29.0</td>\n",
       "      <td>1.0</td>\n",
       "      <td>0.0</td>\n",
       "      <td>0.0</td>\n",
       "      <td>1.0</td>\n",
       "      <td>1.0</td>\n",
       "      <td>...</td>\n",
       "      <td>1.0</td>\n",
       "      <td>0.0</td>\n",
       "      <td>2.0</td>\n",
       "      <td>0.0</td>\n",
       "      <td>0.0</td>\n",
       "      <td>0.0</td>\n",
       "      <td>0.0</td>\n",
       "      <td>8.0</td>\n",
       "      <td>5.0</td>\n",
       "      <td>8.0</td>\n",
       "    </tr>\n",
       "  </tbody>\n",
       "</table>\n",
       "<p>5 rows × 22 columns</p>\n",
       "</div>\n",
       "    <div class=\"colab-df-buttons\">\n",
       "\n",
       "  <div class=\"colab-df-container\">\n",
       "    <button class=\"colab-df-convert\" onclick=\"convertToInteractive('df-f269d800-1a9a-4811-8fb1-5a5861e476b8')\"\n",
       "            title=\"Convert this dataframe to an interactive table.\"\n",
       "            style=\"display:none;\">\n",
       "\n",
       "  <svg xmlns=\"http://www.w3.org/2000/svg\" height=\"24px\" viewBox=\"0 -960 960 960\">\n",
       "    <path d=\"M120-120v-720h720v720H120Zm60-500h600v-160H180v160Zm220 220h160v-160H400v160Zm0 220h160v-160H400v160ZM180-400h160v-160H180v160Zm440 0h160v-160H620v160ZM180-180h160v-160H180v160Zm440 0h160v-160H620v160Z\"/>\n",
       "  </svg>\n",
       "    </button>\n",
       "\n",
       "  <style>\n",
       "    .colab-df-container {\n",
       "      display:flex;\n",
       "      gap: 12px;\n",
       "    }\n",
       "\n",
       "    .colab-df-convert {\n",
       "      background-color: #E8F0FE;\n",
       "      border: none;\n",
       "      border-radius: 50%;\n",
       "      cursor: pointer;\n",
       "      display: none;\n",
       "      fill: #1967D2;\n",
       "      height: 32px;\n",
       "      padding: 0 0 0 0;\n",
       "      width: 32px;\n",
       "    }\n",
       "\n",
       "    .colab-df-convert:hover {\n",
       "      background-color: #E2EBFA;\n",
       "      box-shadow: 0px 1px 2px rgba(60, 64, 67, 0.3), 0px 1px 3px 1px rgba(60, 64, 67, 0.15);\n",
       "      fill: #174EA6;\n",
       "    }\n",
       "\n",
       "    .colab-df-buttons div {\n",
       "      margin-bottom: 4px;\n",
       "    }\n",
       "\n",
       "    [theme=dark] .colab-df-convert {\n",
       "      background-color: #3B4455;\n",
       "      fill: #D2E3FC;\n",
       "    }\n",
       "\n",
       "    [theme=dark] .colab-df-convert:hover {\n",
       "      background-color: #434B5C;\n",
       "      box-shadow: 0px 1px 3px 1px rgba(0, 0, 0, 0.15);\n",
       "      filter: drop-shadow(0px 1px 2px rgba(0, 0, 0, 0.3));\n",
       "      fill: #FFFFFF;\n",
       "    }\n",
       "  </style>\n",
       "\n",
       "    <script>\n",
       "      const buttonEl =\n",
       "        document.querySelector('#df-f269d800-1a9a-4811-8fb1-5a5861e476b8 button.colab-df-convert');\n",
       "      buttonEl.style.display =\n",
       "        google.colab.kernel.accessAllowed ? 'block' : 'none';\n",
       "\n",
       "      async function convertToInteractive(key) {\n",
       "        const element = document.querySelector('#df-f269d800-1a9a-4811-8fb1-5a5861e476b8');\n",
       "        const dataTable =\n",
       "          await google.colab.kernel.invokeFunction('convertToInteractive',\n",
       "                                                    [key], {});\n",
       "        if (!dataTable) return;\n",
       "\n",
       "        const docLinkHtml = 'Like what you see? Visit the ' +\n",
       "          '<a target=\"_blank\" href=https://colab.research.google.com/notebooks/data_table.ipynb>data table notebook</a>'\n",
       "          + ' to learn more about interactive tables.';\n",
       "        element.innerHTML = '';\n",
       "        dataTable['output_type'] = 'display_data';\n",
       "        await google.colab.output.renderOutput(dataTable, element);\n",
       "        const docLink = document.createElement('div');\n",
       "        docLink.innerHTML = docLinkHtml;\n",
       "        element.appendChild(docLink);\n",
       "      }\n",
       "    </script>\n",
       "  </div>\n",
       "\n",
       "\n",
       "<div id=\"df-449e734b-4fb7-45b6-9136-7a2b98404941\">\n",
       "  <button class=\"colab-df-quickchart\" onclick=\"quickchart('df-449e734b-4fb7-45b6-9136-7a2b98404941')\"\n",
       "            title=\"Suggest charts\"\n",
       "            style=\"display:none;\">\n",
       "\n",
       "<svg xmlns=\"http://www.w3.org/2000/svg\" height=\"24px\"viewBox=\"0 0 24 24\"\n",
       "     width=\"24px\">\n",
       "    <g>\n",
       "        <path d=\"M19 3H5c-1.1 0-2 .9-2 2v14c0 1.1.9 2 2 2h14c1.1 0 2-.9 2-2V5c0-1.1-.9-2-2-2zM9 17H7v-7h2v7zm4 0h-2V7h2v10zm4 0h-2v-4h2v4z\"/>\n",
       "    </g>\n",
       "</svg>\n",
       "  </button>\n",
       "\n",
       "<style>\n",
       "  .colab-df-quickchart {\n",
       "      --bg-color: #E8F0FE;\n",
       "      --fill-color: #1967D2;\n",
       "      --hover-bg-color: #E2EBFA;\n",
       "      --hover-fill-color: #174EA6;\n",
       "      --disabled-fill-color: #AAA;\n",
       "      --disabled-bg-color: #DDD;\n",
       "  }\n",
       "\n",
       "  [theme=dark] .colab-df-quickchart {\n",
       "      --bg-color: #3B4455;\n",
       "      --fill-color: #D2E3FC;\n",
       "      --hover-bg-color: #434B5C;\n",
       "      --hover-fill-color: #FFFFFF;\n",
       "      --disabled-bg-color: #3B4455;\n",
       "      --disabled-fill-color: #666;\n",
       "  }\n",
       "\n",
       "  .colab-df-quickchart {\n",
       "    background-color: var(--bg-color);\n",
       "    border: none;\n",
       "    border-radius: 50%;\n",
       "    cursor: pointer;\n",
       "    display: none;\n",
       "    fill: var(--fill-color);\n",
       "    height: 32px;\n",
       "    padding: 0;\n",
       "    width: 32px;\n",
       "  }\n",
       "\n",
       "  .colab-df-quickchart:hover {\n",
       "    background-color: var(--hover-bg-color);\n",
       "    box-shadow: 0 1px 2px rgba(60, 64, 67, 0.3), 0 1px 3px 1px rgba(60, 64, 67, 0.15);\n",
       "    fill: var(--button-hover-fill-color);\n",
       "  }\n",
       "\n",
       "  .colab-df-quickchart-complete:disabled,\n",
       "  .colab-df-quickchart-complete:disabled:hover {\n",
       "    background-color: var(--disabled-bg-color);\n",
       "    fill: var(--disabled-fill-color);\n",
       "    box-shadow: none;\n",
       "  }\n",
       "\n",
       "  .colab-df-spinner {\n",
       "    border: 2px solid var(--fill-color);\n",
       "    border-color: transparent;\n",
       "    border-bottom-color: var(--fill-color);\n",
       "    animation:\n",
       "      spin 1s steps(1) infinite;\n",
       "  }\n",
       "\n",
       "  @keyframes spin {\n",
       "    0% {\n",
       "      border-color: transparent;\n",
       "      border-bottom-color: var(--fill-color);\n",
       "      border-left-color: var(--fill-color);\n",
       "    }\n",
       "    20% {\n",
       "      border-color: transparent;\n",
       "      border-left-color: var(--fill-color);\n",
       "      border-top-color: var(--fill-color);\n",
       "    }\n",
       "    30% {\n",
       "      border-color: transparent;\n",
       "      border-left-color: var(--fill-color);\n",
       "      border-top-color: var(--fill-color);\n",
       "      border-right-color: var(--fill-color);\n",
       "    }\n",
       "    40% {\n",
       "      border-color: transparent;\n",
       "      border-right-color: var(--fill-color);\n",
       "      border-top-color: var(--fill-color);\n",
       "    }\n",
       "    60% {\n",
       "      border-color: transparent;\n",
       "      border-right-color: var(--fill-color);\n",
       "    }\n",
       "    80% {\n",
       "      border-color: transparent;\n",
       "      border-right-color: var(--fill-color);\n",
       "      border-bottom-color: var(--fill-color);\n",
       "    }\n",
       "    90% {\n",
       "      border-color: transparent;\n",
       "      border-bottom-color: var(--fill-color);\n",
       "    }\n",
       "  }\n",
       "</style>\n",
       "\n",
       "  <script>\n",
       "    async function quickchart(key) {\n",
       "      const quickchartButtonEl =\n",
       "        document.querySelector('#' + key + ' button');\n",
       "      quickchartButtonEl.disabled = true;  // To prevent multiple clicks.\n",
       "      quickchartButtonEl.classList.add('colab-df-spinner');\n",
       "      try {\n",
       "        const charts = await google.colab.kernel.invokeFunction(\n",
       "            'suggestCharts', [key], {});\n",
       "      } catch (error) {\n",
       "        console.error('Error during call to suggestCharts:', error);\n",
       "      }\n",
       "      quickchartButtonEl.classList.remove('colab-df-spinner');\n",
       "      quickchartButtonEl.classList.add('colab-df-quickchart-complete');\n",
       "    }\n",
       "    (() => {\n",
       "      let quickchartButtonEl =\n",
       "        document.querySelector('#df-449e734b-4fb7-45b6-9136-7a2b98404941 button');\n",
       "      quickchartButtonEl.style.display =\n",
       "        google.colab.kernel.accessAllowed ? 'block' : 'none';\n",
       "    })();\n",
       "  </script>\n",
       "</div>\n",
       "    </div>\n",
       "  </div>\n"
      ]
     },
     "metadata": {},
     "execution_count": 32
    }
   ],
   "source": [
    "df.head()"
   ]
  },
  {
   "cell_type": "markdown",
   "metadata": {
    "id": "s6Q8yWsjhzBa"
   },
   "source": [
    "We separate the dataset into training and testing. We use the standard split defined in academic literature, 0.8 for the training data, and 0.2 for the test data. Doing this ensures that the model would be better fit to handle real-world data by ensuring the model would be tested on what it has not previously encountered.\n"
   ]
  },
  {
   "cell_type": "code",
   "execution_count": null,
   "metadata": {
    "id": "4wTMNlCrhyh3"
   },
   "outputs": [],
   "source": [
    "from sklearn.model_selection import train_test_split\n",
    "\n",
    "X = df.drop('Diabetes_binary',axis=1)\n",
    "y = df['Diabetes_binary']\n",
    "\n",
    "#Separate testing and training\n",
    "X_train, X_test, y_train, y_test = train_test_split( X, y, test_size=0.2, random_state=7)"
   ]
  },
  {
   "cell_type": "markdown",
   "metadata": {
    "id": "qDDZODWHCe9g"
   },
   "source": [
    "We normalize the data to prevent overrepresentation of features with large values. This is particularly important for the machine learning algorithms that will be used for the models that are sensitive to outliers. Normalization helps to scale all features to a similar range, preventing certain features from dominating others during the training process. We use MinMaxScaler instead of the common StandardScaler to scale the features since the data has no significant minimum or maximum outliers. Using MinMax scaler also preserves the shape of the original distribution of the data and the relationship between the features."
   ]
  },
  {
   "cell_type": "code",
   "execution_count": null,
   "metadata": {
    "colab": {
     "base_uri": "https://localhost:8080/"
    },
    "id": "4R3m6b0S31GV",
    "outputId": "71b4cf21-cd1c-47fa-d793-f696e635d63d"
   },
   "outputs": [
    {
     "output_type": "stream",
     "name": "stdout",
     "text": [
      "[0.         0.         1.         0.10588235 0.         0.\n",
      " 0.         0.         0.         1.         0.         1.\n",
      " 0.         0.25       0.         0.         0.         0.\n",
      " 0.5        0.6        1.        ]\n"
     ]
    }
   ],
   "source": [
    "# Normalize data\n",
    "from sklearn.preprocessing import MinMaxScaler\n",
    "\n",
    "scaler = MinMaxScaler()\n",
    "X_train = scaler.fit_transform(X_train)\n",
    "X_test = scaler.fit_transform(X_test)\n",
    "\n",
    "print(X_train[0])"
   ]
  },
  {
   "cell_type": "markdown",
   "metadata": {
    "id": "9s-vGLxXO_R8"
   },
   "source": [
    "# K-Nearest Neighbors"
   ]
  },
  {
   "cell_type": "markdown",
   "metadata": {
    "id": "PEkx7MqmPMbr"
   },
   "source": [
    "The first selected model is K-Nearest Neighbors (KNN) due to its simplicity, chosen as a baseline for the remaining two models. Our decision to opt for KNN over its counterpart was influenced by this [article](https://medium.com/@rmadhu2131/svm-and-knn-algorithms-c2bc72c854a5) by Rmadhu and this [article](https://towardsdatascience.com/comparative-study-on-classic-machine-learning-algorithms-24f9ff6ab222) by Danny Varghese, which suggested that KNNs perform better with large datasets. This choice aligns with our goal of leveraging KNN's effectiveness in handling substantial amounts of data while providing a straightforward benchmark for comparison with the subsequent models. A validation curve is created to determine the best n_neighbors value to be used. From this, an arbitrary best value is selected using the elbow-curve method.\n",
    "\n",
    "Another reason why KNN was selected is because it operates on the fundamental premise that data points sharing similarities in a feature space are likely to possess similar labels or target values. This is particularly suited for this data set as prior domain-dependent knowledge has already identified possible relationships between features related to health with diabetes. With this assumption, the algorithm quantifies this similarity by calculating distances and subsequently selecting the nearest data points to a target point. The hyperparameter K, or n_neighbors, plays a pivotal role in this process, dictating the number of data points considered. Once the nearest neighbors are identified, the algorithm employs a majority voting mechanism, with the class assigned to the target point determined by the most frequently occurring class among its selected neighbors."
   ]
  },
  {
   "cell_type": "markdown",
   "source": [
    "**Validation Curve:**"
   ],
   "metadata": {
    "id": "XqYOMGso7Vfw"
   }
  },
  {
   "cell_type": "markdown",
   "source": [
    "![Screenshot 2023-12-01 224840.png](data:image/png;base64,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)"
   ],
   "metadata": {
    "id": "V41er8T42pl-"
   }
  },
  {
   "cell_type": "markdown",
   "source": [
    "From the validation curve, an arbitrary number is selected that balances the training and testing accuracy of the model. By visualizing the plot, the elbow method can be used to see that an optimum K-value for the model would be 13. In the selection of this K-value, we ensure that the model does not regress from overfitting and underfitting.\n"
   ],
   "metadata": {
    "id": "AwHw3AQt7Ihd"
   }
  },
  {
   "cell_type": "code",
   "execution_count": null,
   "metadata": {
    "id": "wK3SwI6RPHT0",
    "colab": {
     "base_uri": "https://localhost:8080/"
    },
    "outputId": "ac046c56-a8ee-4843-850f-dc16bbf6c275"
   },
   "outputs": [
    {
     "output_type": "stream",
     "name": "stdout",
     "text": [
      "Accuracy: 0.72\n"
     ]
    }
   ],
   "source": [
    "import matplotlib.pyplot as plt\n",
    "import numpy as np\n",
    "from sklearn.neighbors import KNeighborsClassifier\n",
    "from sklearn.metrics import accuracy_score, confusion_matrix, classification_report\n",
    "\n",
    "knn_model = KNeighborsClassifier(n_neighbors=13)\n",
    "\n",
    "# Train the model on the training set\n",
    "knn_model.fit(X_train, y_train)\n",
    "\n",
    "# Make predictions on the test set\n",
    "KNN_predictions = knn_model.predict(X_test)\n",
    "\n",
    "# Calculate accuracy\n",
    "accuracy = accuracy_score(y_test, KNN_predictions)\n",
    "print(f'Accuracy: {accuracy:.2f}')"
   ]
  },
  {
   "cell_type": "markdown",
   "metadata": {
    "id": "86oRN7WbkxG5"
   },
   "source": [
    "The configuration process for a K-Nearest Neighbors (KNN) model is straightforward, as illustrated earlier, with the sole hyperparameter requiring attention being the 'n_neighbors' value. As highlighted in the aforementioned article, choosing this hyperparameter involves a delicate balance, as lower values may result in overfitting, while higher values may lead to underfitting. To strike a suitable equilibrium, we opted for a value positioned between these extremes, ensuring a pragmatic compromise that aligns with the model's optimal performance without succumbing to issues of overfitting or underfitting."
   ]
  },
  {
   "cell_type": "markdown",
   "source": [
    "The following code displays the confusion matrix for our KNN model. A confusion matrix is a way of comparing the difference between predicted and actual data. It consists of a table of 4 values:\n",
    "\n",
    "\n",
    "1.   True Positive (TP): This value sits on the top left and shows how many times the model correctly predicted a positive (diabetic) outcome.\n",
    "2.   True Negative (TN): This value sits on the bottom left and shows how many times the model correctly predicted a negative (non-diabetic) outcome.\n",
    "3.   False Positive (FP): This value sits on the top right and shows how many times the model incorrectly predicted a positive (diabetic) outcome.\n",
    "4.   False Negative (FN): This value sits on the bottom right and shows how many times the model incorrectly predicted a negative (non-diabetic) outcome.\n",
    "\n"
   ],
   "metadata": {
    "id": "8s2oLiqwxT_r"
   }
  },
  {
   "cell_type": "code",
   "execution_count": null,
   "metadata": {
    "id": "baAXWPG6jcUX",
    "colab": {
     "base_uri": "https://localhost:8080/"
    },
    "outputId": "53e3e218-153e-49c7-860b-c51551654f09"
   },
   "outputs": [
    {
     "output_type": "stream",
     "name": "stdout",
     "text": [
      "Confusion Matrix:\n",
      "[[4842 2269]\n",
      " [1628 5400]]\n"
     ]
    }
   ],
   "source": [
    "conf_matrix = confusion_matrix(y_test, KNN_predictions)\n",
    "\n",
    "print('Confusion Matrix:')\n",
    "print(conf_matrix)"
   ]
  },
  {
   "cell_type": "markdown",
   "metadata": {
    "id": "f3y_xuL52nuf"
   },
   "source": [
    "# Logistic Regression"
   ]
  },
  {
   "cell_type": "markdown",
   "metadata": {
    "id": "D1wnBqIJolRT"
   },
   "source": [
    "The choice to implement a Logistic Regression model was rooted in its seamless alignment with the chosen dataset's characteristics. Logistic regression proves particularly adept at handling extensive datasets, generating outputs within a discernible range from 0 to 1. This range serves as a nuanced indicator of the model's confidence in predicting whether an individual has diabetes or not. Another reason why the group chose logistic regression is that, once the group establishes a robust model, the intention is to analyze the impact of each feature on predicting the presence of diabetes. This will allow for valuable comparisons with insights from healthcare professionals.\n",
    "\n",
    "When using logistic regression, a random state is implemented to dictate how the train and test data are shuffled. For all executions given a random state value, the training and test data sets remain the same, however, this would change when the random state value is changed. For this project, a random state value of 42 was implemented as it is a popular number among computer scientists (Pramoditha, 2022).\n"
   ]
  },
  {
   "cell_type": "code",
   "execution_count": null,
   "metadata": {
    "id": "CBRxH-l-uQFF",
    "colab": {
     "base_uri": "https://localhost:8080/"
    },
    "outputId": "4f9e4352-edfd-463b-d964-0b87bed2bd71"
   },
   "outputs": [
    {
     "output_type": "stream",
     "name": "stdout",
     "text": [
      "Accuracy: 0.75\n"
     ]
    }
   ],
   "source": [
    "from sklearn.linear_model import LogisticRegression\n",
    "\n",
    "model = LogisticRegression(random_state=42)\n",
    "\n",
    "# Train the model on the training set\n",
    "model.fit(X_train, y_train)\n",
    "\n",
    "# Make predictions on the test set\n",
    "LR_predictions = model.predict(X_test)\n",
    "\n",
    "# Calculate accuracy\n",
    "accuracy = accuracy_score(y_test, LR_predictions)\n",
    "print(f'Accuracy: {accuracy:.2f}')"
   ]
  },
  {
   "cell_type": "markdown",
   "source": [
    "Once again, this code displays the confusion matrix for the logistic regression model."
   ],
   "metadata": {
    "id": "KTljqd0h8Dgm"
   }
  },
  {
   "cell_type": "code",
   "execution_count": null,
   "metadata": {
    "id": "E5VcT9V1wYNY",
    "colab": {
     "base_uri": "https://localhost:8080/"
    },
    "outputId": "f469bbd7-efa8-4755-ae57-9a2038fe7666"
   },
   "outputs": [
    {
     "output_type": "stream",
     "name": "stdout",
     "text": [
      "Confusion Matrix:\n",
      "[[5098 2013]\n",
      " [1494 5534]]\n"
     ]
    }
   ],
   "source": [
    "# Display confusion matrix and classification report\n",
    "conf_matrix = confusion_matrix(y_test, LR_predictions)\n",
    "\n",
    "print('Confusion Matrix:')\n",
    "print(conf_matrix)"
   ]
  },
  {
   "cell_type": "markdown",
   "source": [
    "The following code displays the associated weight values of each feature of the data set."
   ],
   "metadata": {
    "id": "bZ2ATKof8LMG"
   }
  },
  {
   "cell_type": "code",
   "execution_count": null,
   "metadata": {
    "id": "aHMGqLKdpH0N",
    "colab": {
     "base_uri": "https://localhost:8080/"
    },
    "outputId": "f0aafb61-a0f4-4b26-f23e-25fe4ac31747"
   },
   "outputs": [
    {
     "output_type": "stream",
     "name": "stdout",
     "text": [
      "HighBP : 0.7296831122727588 HighChol : 0.6011349215803421 CholCheck : 1.3693521526403867 BMI : 6.299372762149955 Smoker : 0.002195931898262535 Stroke : 0.173208816083403 HeartDiseaseorAttack : 0.24835568118216497 PhysActivity : -0.03895790990099306 Fruits : -0.031513629165434 Veggies : -0.062442775770980806 HvyAlcoholConsump : -0.7423944629715267 AnyHealthcare : 0.057629029356661615 NoDocbcCost : -0.008285326973460497 GenHlth : 2.327720231457796 MentHlth : -0.13877558209285046 PhysHlth : -0.23309622041913994 DiffWalk : 0.08554976868165834 Sex : 0.2750090844499477 Age : 1.8184339700144567 Education : -0.20120438831468834 Income : -0.42483645050881585 "
     ]
    }
   ],
   "source": [
    "for index, element in enumerate(model.coef_[0]):\n",
    "  print(df.columns.values[index+1],\":\", element, end=' ')"
   ]
  },
  {
   "cell_type": "markdown",
   "metadata": {
    "id": "CcdpwBpQ6RFf"
   },
   "source": [
    "This model suggests that BMI plays the biggest role in determining whether a person has diabetes or not. The model also shows that age and general health are the 2nd and 3rd most relevant factors, which can be supported by a study by Medhi et al. that observed that among senior citizens in Northeastern India, those with higher BMI are more likely to have diabetes, thus showing that the three biggest factors according to the model are factually accurate and backed by science (Medhi et al., 2021)."
   ]
  },
  {
   "cell_type": "markdown",
   "metadata": {
    "id": "Uf7Oy2zK7Nhw"
   },
   "source": [
    "# Deep learning (not really)"
   ]
  },
  {
   "cell_type": "markdown",
   "metadata": {
    "id": "jPVil4t8aLhT"
   },
   "source": [
    "Deep learning is a subfield of machine learning that involves training artificial neural networks with multiple layers (also called multi-layer perceptron) to learn and extract hierarchical representations of data. The purpose of these extra layers is to model the complexity of many real-world problems that a single-layer perceptron cannot (Walter, 2022). Through a process known as backpropagation, the network adjusts its parameters iteratively, minimizing the difference between predicted and actual outcomes during training. This adaptability enables deep learning models to generalize well to new, unseen data, making them powerful tools for tasks like image and speech recognition, autonomous vehicles, and natural language understanding.\n",
    "\n",
    "Although two models are already sufficient for this project, the researchers wanted to compare the results of logistic regression and a simple four-layer neural network. The group wanted to compare the two models because they anticipated that the neural network might capture more intricate patterns and relationships within the data, potentially outperforming logistic regression in certain aspects."
   ]
  },
  {
   "cell_type": "code",
   "execution_count": null,
   "metadata": {
    "id": "YKAKwWiqaLIo"
   },
   "outputs": [],
   "source": [
    "import tensorflow as tf\n",
    "from tensorflow import keras"
   ]
  },
  {
   "cell_type": "code",
   "execution_count": null,
   "metadata": {
    "id": "z7Rrbna0m2sf"
   },
   "outputs": [],
   "source": [
    "model = keras.Sequential([\n",
    "    keras.layers.Dense(units=21, input_shape=(21,), activation='relu'),\n",
    "    keras.layers.Dense(128, activation='relu'),\n",
    "    keras.layers.Dense(128, activation='relu'),\n",
    "    keras.layers.Dense(units=1, activation='sigmoid')\n",
    "])"
   ]
  },
  {
   "cell_type": "markdown",
   "metadata": {
    "id": "CYwgxZnvHPze"
   },
   "source": [
    "Compared to the models discussed earlier, neural network models involve tuning several hyperparameters. The rationale behind the choices made for the current neural network model is outlined below:\n",
    "\n",
    "1. **Sequential Model Selection**: We opted for a linear stacking of layers because of its simplicity and widespread usage in various applications.\n",
    "2. **Input Shape and Units Selection**: The choice of input_shape (21,) and the number of units in the first layer is grounded in the characteristics of our feature data. With 21 columns in our input data, we pass 21 values to the input layer to appropriately capture the data's structure.\n",
    "3.**Activation Function** - Rectified Linear Unit (ReLU): We selected the Rectified Linear Unit (ReLU) as our activation function for both input and hidden layers. This choice aligns with common practice due to ReLU's efficiency in introducing non-linearity, essential for learning complex patterns in the data.\n",
    "4. **Output Layer Configuration**: The output layer comprises a single neuron with a sigmoid activation function. This design is intentional; it reflects our objective of obtaining an output in the range of 0 to 1. The sigmoid activation is suitable for binary classification problems, providing a probability-like output. In our context, this value signifies the model's confidence in predicting whether an individual has diabetes or not."
   ]
  },
  {
   "cell_type": "code",
   "execution_count": null,
   "metadata": {
    "colab": {
     "base_uri": "https://localhost:8080/"
    },
    "id": "PtBmUHy2LT3Q",
    "outputId": "1ca49369-bd12-4126-c238-729f9a792a2b"
   },
   "outputs": [
    {
     "output_type": "stream",
     "name": "stdout",
     "text": [
      "Epoch 1/10\n",
      "1018/1018 [==============================] - 5s 4ms/step - loss: 0.5397 - accuracy: 0.7304 - val_loss: 0.5224 - val_accuracy: 0.7433\n",
      "Epoch 2/10\n",
      "1018/1018 [==============================] - 4s 4ms/step - loss: 0.5156 - accuracy: 0.7443 - val_loss: 0.5178 - val_accuracy: 0.7436\n",
      "Epoch 3/10\n",
      "1018/1018 [==============================] - 7s 7ms/step - loss: 0.5104 - accuracy: 0.7471 - val_loss: 0.5127 - val_accuracy: 0.7468\n",
      "Epoch 4/10\n",
      "1018/1018 [==============================] - 4s 4ms/step - loss: 0.5081 - accuracy: 0.7487 - val_loss: 0.5169 - val_accuracy: 0.7505\n",
      "Epoch 5/10\n",
      "1018/1018 [==============================] - 5s 5ms/step - loss: 0.5065 - accuracy: 0.7509 - val_loss: 0.5106 - val_accuracy: 0.7481\n",
      "Epoch 6/10\n",
      "1018/1018 [==============================] - 5s 5ms/step - loss: 0.5049 - accuracy: 0.7502 - val_loss: 0.5106 - val_accuracy: 0.7498\n",
      "Epoch 7/10\n",
      "1018/1018 [==============================] - 4s 4ms/step - loss: 0.5037 - accuracy: 0.7508 - val_loss: 0.5148 - val_accuracy: 0.7449\n",
      "Epoch 8/10\n",
      "1018/1018 [==============================] - 4s 4ms/step - loss: 0.5032 - accuracy: 0.7523 - val_loss: 0.5109 - val_accuracy: 0.7493\n",
      "Epoch 9/10\n",
      "1018/1018 [==============================] - 5s 5ms/step - loss: 0.5024 - accuracy: 0.7522 - val_loss: 0.5131 - val_accuracy: 0.7496\n",
      "Epoch 10/10\n",
      "1018/1018 [==============================] - 4s 4ms/step - loss: 0.5012 - accuracy: 0.7531 - val_loss: 0.5113 - val_accuracy: 0.7491\n"
     ]
    },
    {
     "output_type": "execute_result",
     "data": {
      "text/plain": [
       "<keras.src.callbacks.History at 0x7e215907c2b0>"
      ]
     },
     "metadata": {},
     "execution_count": 42
    }
   ],
   "source": [
    "model.compile(optimizer='adam',\n",
    "              loss='binary_crossentropy',\n",
    "              metrics=['accuracy'])\n",
    "\n",
    "model.fit(X_train, y_train, epochs=10, batch_size=50, validation_split=0.1)"
   ]
  },
  {
   "cell_type": "markdown",
   "metadata": {
    "id": "5Ju9E3kuLUXE"
   },
   "source": [
    "In configuring the model for compilation, we chose the widely-used Adam optimizer due to its adaptive learning rate properties (and because we dont know how the other optimizers work lol). Then the binary_crossentropy loss function was selected to effectively measure dissimilarity in our binary classification task, enhancing the model's discrimination capabilities. For performance monitoring, accuracy was designated as the evaluation metric, providing insight into the proportion of accurately classified instances during training.\n",
    "\n",
    "We then trained the model with 10 epochs and a batch size of 50. The validation_split parameter was set to 0.1, allocating 10% of the training data for validation purposes. Each epoch represents one complete iteration through the entire training dataset, and the batch size of 50 signifies that the model's weights are updated after processing each batch. The inclusion of validation data enables the assessment of the model's generalization performance, helping to detect potential overfitting. Through this training configuration, we aimed to strike a balance between the number of training iterations and the computational efficiency, while ensuring the model's robustness and effectiveness in making predictions on unseen data.\n"
   ]
  },
  {
   "cell_type": "code",
   "execution_count": null,
   "metadata": {
    "colab": {
     "base_uri": "https://localhost:8080/"
    },
    "id": "ZrF_x1IwqdVw",
    "outputId": "06b4bde8-22ec-46aa-f1fb-85b768ec8b79"
   },
   "outputs": [
    {
     "output_type": "stream",
     "name": "stdout",
     "text": [
      "442/442 [==============================] - 1s 2ms/step - loss: 0.5033 - accuracy: 0.7523\n",
      "Test accuracy: 0.7523162961006165\n"
     ]
    }
   ],
   "source": [
    "test_loss, test_acc = model.evaluate(X_test, y_test)\n",
    "print(f'Test accuracy: {test_acc}')"
   ]
  },
  {
   "cell_type": "code",
   "source": [
    "# Generate classification report which will be used in the results and discussion\n",
    "y_pred_probs = model.predict(X_test)\n",
    "y_pred = (y_pred_probs > 0.5).astype(int)  # Threshold probabilities for binary classification\n"
   ],
   "metadata": {
    "colab": {
     "base_uri": "https://localhost:8080/"
    },
    "id": "uS4x8uhc35LX",
    "outputId": "cd9cd12d-d2a4-4293-ef6e-103e40263c48"
   },
   "execution_count": null,
   "outputs": [
    {
     "output_type": "stream",
     "name": "stdout",
     "text": [
      "442/442 [==============================] - 1s 2ms/step\n"
     ]
    }
   ]
  },
  {
   "cell_type": "markdown",
   "source": [
    "# Results and Discussion"
   ],
   "metadata": {
    "id": "pJkvJpJB1GZM"
   }
  },
  {
   "cell_type": "code",
   "source": [
    "# Generate classification reports for the different models\n",
    "NN_report = classification_report(y_test, y_pred)\n",
    "KNN_class_report = classification_report(y_test, KNN_predictions)\n",
    "LR_class_report = classification_report(y_test, LR_predictions)\n",
    "\n",
    "print(\"KNN Classification Report: \\n\\n\",KNN_class_report,\"\\nLogistic Regression Classification Report: \\n\\n\",LR_class_report, \"\\nNeural Network Classification Report: \\n\\n\", NN_report)\n"
   ],
   "metadata": {
    "colab": {
     "base_uri": "https://localhost:8080/"
    },
    "id": "wPp3IC0D32Yk",
    "outputId": "49c9b024-400c-419d-d4d5-c03fa8e3048f"
   },
   "execution_count": null,
   "outputs": [
    {
     "output_type": "stream",
     "name": "stdout",
     "text": [
      "KNN Classification Report: \n",
      "\n",
      "               precision    recall  f1-score   support\n",
      "\n",
      "         0.0       0.75      0.68      0.71      7111\n",
      "         1.0       0.70      0.77      0.73      7028\n",
      "\n",
      "    accuracy                           0.72     14139\n",
      "   macro avg       0.73      0.72      0.72     14139\n",
      "weighted avg       0.73      0.72      0.72     14139\n",
      " \n",
      "Logistic Regression Classification Report: \n",
      "\n",
      "               precision    recall  f1-score   support\n",
      "\n",
      "         0.0       0.77      0.72      0.74      7111\n",
      "         1.0       0.73      0.79      0.76      7028\n",
      "\n",
      "    accuracy                           0.75     14139\n",
      "   macro avg       0.75      0.75      0.75     14139\n",
      "weighted avg       0.75      0.75      0.75     14139\n",
      " \n",
      "Neural Network Classification Report: \n",
      "\n",
      "               precision    recall  f1-score   support\n",
      "\n",
      "         0.0       0.79      0.69      0.74      7111\n",
      "         1.0       0.72      0.82      0.77      7028\n",
      "\n",
      "    accuracy                           0.75     14139\n",
      "   macro avg       0.76      0.75      0.75     14139\n",
      "weighted avg       0.76      0.75      0.75     14139\n"
     ]
    }
   ]
  },
  {
   "cell_type": "markdown",
   "source": [
    "Using accuracy as the sole criteria for evalution may be misleading because it masks the issue of class imbalance. An example of this is with our third dataset where a model can just predict no diabetes all the time and it will yield a 95% accuracy because 95% of our training dataset is no diabetes. Thats why we have to use other metrics to evaluate the performance of our model.\n",
    "\n",
    "In order to come up with the most appropriate model for the given data set, two factors must be considered, the recall scores of the model and its consistency. With this in mind, Deep Learning was able to post the highest recall score, followed by Logistic Regression, and K-Nearest Neighbors. However, it was observed through multiple iterations that the values of Deep Learning were inconsistent and changed erratically. With this in mind we deemed Logistic regression as the most appropriate model as not only does it have a better recall score than KNN, it is able to extract the significant factors that contribute to the likelihood an individual has diabetes.\n",
    "\n",
    "We must consider that in real world scenarios, falsely determining whether someone has diabetes or not could greatly impact their lives. It is best to use a model that is both factually accurate and consistent as the implications of these results could theoretically result to life and death situations. Working with the three models allowed us to gain valuable insights and deepen our understanding of machine learning. We understand that how we utilized these models is just the tip of the iceberg, but it was able to break the ice and show us a clear path to moving forward as researchers.\n"
   ],
   "metadata": {
    "id": "J1KapD4N49Yh"
   }
  },
  {
   "cell_type": "markdown",
   "metadata": {
    "id": "aQK7cVGpSUjO"
   },
   "source": [
    "# References\n",
    "\n",
    "Huilgol, P. (2020, September 3). Precision vs Recall | Precision and Recall Machine Learning. Analytics Vidhya. https://www.analyticsvidhya.com/blog/2020/09/precision-recall-machine-learning/\n",
    "\n",
    "\n",
    "\n",
    "Mayo Clinic. (2023, September 15). Diabetes - symptoms and causes. Mayo Clinic; Mayo Clinic. https://www.mayoclinic.org/diseases-conditions/diabetes/symptoms-causes/syc-20371444\n",
    "\n",
    "\n",
    "Medhi, G. K., Dutta, G., Borah, P., Lyngdoh, M., & Sarma, A. (2021). Prevalence of Diabetes and Its Relationship With Body Mass Index Among Elderly People in a Rural Area of Northeastern State of India. Cureus. https://doi.org/10.7759/cureus.12747\n",
    "\n",
    "Pramoditha, R. (2022, May 2). Why do we set a random state in machine learning models? Medium. https://towardsdatascience.com/why-do-we-set-a-random-state-in-machine-learning-models-bb2dc68d8431\n",
    "Rmadhu. (2023, July 24). SVM and KNN algorithms : Medium. https://medium.com/@rmadhu2131/svm-and-knn-algorithms-c2bc72c854a5\n",
    "\n",
    "RN, S. F. (2020, November 30). Why Early Detection is Key in Diabetes - My Virtual Physician. My Virtual Physician. https://myvirtualphysician.com/2020/11/30/why-early-detection-is-key-in-diabetes/\n",
    "Varghese, D. (2019, May 10). Comparative study on Classic Machine learning Algorithms. Medium. https://towardsdatascience.com/comparative-study-on-classic-machine-learning-algorithms-24f9ff6ab222\n",
    "\n",
    "Walter, T. (2022, March 30). Deep Learning: Adding Layers to the Network. CAMELOT Blog. https://blog.camelot-group.com/2022/03/deep-learning-adding-layers-to-the-network/\n"
   ]
  },
  {
   "cell_type": "markdown",
   "source": [
    "![oth5t1i1o0b91.webp](data:image/webp;base64,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)"
   ],
   "metadata": {
    "id": "pkKr274K99o7"
   }
  }
 ],
 "metadata": {
  "accelerator": "GPU",
  "colab": {
   "provenance": [],
   "toc_visible": true
  },
  "kernelspec": {
   "display_name": "Python 3",
   "name": "python3"
  },
  "language_info": {
   "name": "python"
  }
 },
 "nbformat": 4,
 "nbformat_minor": 0
}
